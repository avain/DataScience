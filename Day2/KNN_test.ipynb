{
 "cells": [
  {
   "cell_type": "code",
   "execution_count": 3,
   "metadata": {},
   "outputs": [],
   "source": [
    "from sklearn import datasets  \n",
    "#導入內置資料集模組                      \n",
    "from sklearn.neighbors import KNeighborsClassifier \n",
    "#導入sklearn.neighbors模組中KNN類\n",
    "import numpy as np \n",
    "np.random.seed(0)  \n",
    "#設置隨機種子，不設置的話預設是按系統時間作為參數，因此每次調用隨機模組時產生的亂數都不一樣設置後每次產生的一樣\n",
    "iris=datasets.load_iris() \n",
    "#導入鳶尾花的資料集，iris是一個類似於結構體的東西，內部有樣本資料，如果是監督學習還有標籤資料"
   ]
  },
  {
   "cell_type": "code",
   "execution_count": 4,
   "metadata": {},
   "outputs": [],
   "source": [
    "iris_x=iris.data   \n",
    " #樣本資料150*4二維資料，代表150個樣本，每個樣本4個屬性分別為花瓣和花萼的長、寬\n",
    "iris_y=iris.target  \n",
    "#長150的以為陣列，樣本資料的標籤\n",
    "indices = np.random.permutation(len(iris_x)) \n",
    "#permutation接收一個數作為參數(150),產生一個0-149一維陣列，只不過是隨機打亂的，當然她也可以接收一個一維陣列作為參數，結果是直接對這個陣列打亂\n",
    "iris_x_train = iris_x[indices[:-10]]\n",
    " #隨機選取140個樣本作為訓練資料集\n",
    "iris_y_train = iris_y[indices[:-10]] \n",
    "#並且選取這140個樣本的標籤作為訓練資料集的標籤\n",
    "iris_x_test  = iris_x[indices[-10:]]\n",
    " #剩下的10個樣本作為測試資料集\n",
    "iris_y_test  = iris_y[indices[-10:]] \n",
    "#並且把剩下10個樣本對應標籤作為測試資料及的標籤\n",
    "\n"
   ]
  },
  {
   "cell_type": "code",
   "execution_count": 7,
   "metadata": {},
   "outputs": [
    {
     "name": "stdout",
     "output_type": "stream",
     "text": [
      "iris_y_predict = \n",
      "[1 2 1 0 0 0 2 1 2 0]\n",
      "iris_y_test = \n",
      "[1 1 1 0 0 0 2 1 2 0]\n",
      "Accuracy: 0.9\n",
      "neighborpoint of last test sample: [[ 71  81 127  63  38]\n",
      " [119  33  76  60  52]\n",
      " [ 79 132   1  13  27]\n",
      " [ 44 113 107  68  32]\n",
      " [122  87  99  97  68]\n",
      " [106  15  93  61  82]\n",
      " [ 46  30  86  70  34]\n",
      " [ 39 128 127  50  63]\n",
      " [116 104  80  51 121]\n",
      " [ 75  41  96  78 123]]\n",
      "probility: [[0.  1.  0. ]\n",
      " [0.  0.4 0.6]\n",
      " [0.  1.  0. ]\n",
      " [1.  0.  0. ]\n",
      " [1.  0.  0. ]\n",
      " [1.  0.  0. ]\n",
      " [0.  0.  1. ]\n",
      " [0.  1.  0. ]\n",
      " [0.  0.  1. ]\n",
      " [1.  0.  0. ]]\n"
     ]
    }
   ],
   "source": [
    "knn = KNeighborsClassifier() \n",
    "#定義一個knn分類器物件\n",
    "knn.fit(iris_x_train, iris_y_train)  \n",
    "#調用該對象的訓練方法，主要接收兩個參數：訓練資料集及其樣本標籤\n",
    "\n",
    "iris_y_predict = knn.predict(iris_x_test) \n",
    " #調用該物件的測試方法，主要接收一個參數：測試資料集\n",
    "probility=knn.predict_proba(iris_x_test)  \n",
    " #計算各測試樣本基於概率的預測\n",
    "neighborpoint=knn.kneighbors(iris_x_test,5,False)\n",
    "#計算與最後一個測試樣本距離在最近的5個點，返回的是這些樣本的序號組成的陣列\n",
    "score=knn.score(iris_x_test,iris_y_test,sample_weight=None)\n",
    "#調用該物件的打分方法，計算出準確率\n",
    "\n",
    "print('iris_y_predict = ')  \n",
    "print(iris_y_predict)  \n",
    "#輸出測試的結果\n",
    "\n",
    "print('iris_y_test = ')\n",
    "print(iris_y_test)    \n",
    "#輸出原始測試資料集的正確標籤，以方便對比\n",
    "print('Accuracy:',score) \n",
    "#輸出準確率計算結果\n",
    "print('neighborpoint of last test sample:',neighborpoint)\n",
    " \n",
    "print('probility:',probility)\n"
   ]
  },
  {
   "cell_type": "code",
   "execution_count": null,
   "metadata": {},
   "outputs": [],
   "source": []
  }
 ],
 "metadata": {
  "kernelspec": {
   "display_name": "Python 3",
   "language": "python",
   "name": "python3"
  },
  "language_info": {
   "codemirror_mode": {
    "name": "ipython",
    "version": 3
   },
   "file_extension": ".py",
   "mimetype": "text/x-python",
   "name": "python",
   "nbconvert_exporter": "python",
   "pygments_lexer": "ipython3",
   "version": "3.6.4"
  }
 },
 "nbformat": 4,
 "nbformat_minor": 2
}
